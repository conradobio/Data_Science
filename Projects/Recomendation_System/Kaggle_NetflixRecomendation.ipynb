{
 "cells": [
  {
   "cell_type": "code",
   "execution_count": 1,
   "id": "0caf9cd3",
   "metadata": {},
   "outputs": [],
   "source": [
    "#https://www.datacamp.com/community/tutorials/streaming-platform-analysis"
   ]
  },
  {
   "cell_type": "code",
   "execution_count": 129,
   "id": "c40aa06d",
   "metadata": {},
   "outputs": [],
   "source": [
    "#Import libraries\n",
    "\n",
    "import numpy as np\n",
    "import pandas as pd\n",
    "import matplotlib.pyplot as plt\n",
    "import seaborn as sns\n",
    "import pandas_profiling\n",
    "\n",
    "from nltk.tokenize import RegexpTokenizer\n",
    "from sklearn.feature_extraction.text import TfidfVectorizer\n",
    "from sklearn import preprocessing\n",
    "from sklearn.preprocessing import MinMaxScaler\n",
    "from sklearn.metrics.pairwise import cosine_similarity\n",
    "\n",
    "from scipy.sparse import hstack\n",
    "\n",
    "%matplotlib inline"
   ]
  },
  {
   "cell_type": "code",
   "execution_count": 41,
   "id": "a25801ce",
   "metadata": {},
   "outputs": [],
   "source": [
    "#Load Dataset\n",
    "df = pd.read_csv('kaggle/tvshow.csv')"
   ]
  },
  {
   "cell_type": "code",
   "execution_count": 42,
   "id": "86f44583",
   "metadata": {},
   "outputs": [
    {
     "data": {
      "text/html": [
       "<div>\n",
       "<style scoped>\n",
       "    .dataframe tbody tr th:only-of-type {\n",
       "        vertical-align: middle;\n",
       "    }\n",
       "\n",
       "    .dataframe tbody tr th {\n",
       "        vertical-align: top;\n",
       "    }\n",
       "\n",
       "    .dataframe thead th {\n",
       "        text-align: right;\n",
       "    }\n",
       "</style>\n",
       "<table border=\"1\" class=\"dataframe\">\n",
       "  <thead>\n",
       "    <tr style=\"text-align: right;\">\n",
       "      <th></th>\n",
       "      <th>ID</th>\n",
       "      <th>Title</th>\n",
       "      <th>Year</th>\n",
       "      <th>Age</th>\n",
       "      <th>IMDb</th>\n",
       "      <th>Rotten Tomatoes</th>\n",
       "      <th>Netflix</th>\n",
       "      <th>Hulu</th>\n",
       "      <th>Prime Video</th>\n",
       "      <th>Disney+</th>\n",
       "      <th>Type</th>\n",
       "      <th>Directors</th>\n",
       "      <th>Genres</th>\n",
       "      <th>Country</th>\n",
       "      <th>Language</th>\n",
       "      <th>Runtime</th>\n",
       "    </tr>\n",
       "  </thead>\n",
       "  <tbody>\n",
       "    <tr>\n",
       "      <th>0</th>\n",
       "      <td>1</td>\n",
       "      <td>The Irishman</td>\n",
       "      <td>2019</td>\n",
       "      <td>18+</td>\n",
       "      <td>7.8/10</td>\n",
       "      <td>98/100</td>\n",
       "      <td>1</td>\n",
       "      <td>0</td>\n",
       "      <td>0</td>\n",
       "      <td>0</td>\n",
       "      <td>0</td>\n",
       "      <td>Martin Scorsese</td>\n",
       "      <td>Biography,Crime,Drama</td>\n",
       "      <td>United States</td>\n",
       "      <td>English,Italian,Latin,Spanish,German</td>\n",
       "      <td>209.0</td>\n",
       "    </tr>\n",
       "    <tr>\n",
       "      <th>1</th>\n",
       "      <td>2</td>\n",
       "      <td>Dangal</td>\n",
       "      <td>2016</td>\n",
       "      <td>7+</td>\n",
       "      <td>8.4/10</td>\n",
       "      <td>97/100</td>\n",
       "      <td>1</td>\n",
       "      <td>0</td>\n",
       "      <td>0</td>\n",
       "      <td>0</td>\n",
       "      <td>0</td>\n",
       "      <td>Nitesh Tiwari</td>\n",
       "      <td>Action,Biography,Drama,Sport</td>\n",
       "      <td>India,United States,United Kingdom,Australia,K...</td>\n",
       "      <td>Hindi,English</td>\n",
       "      <td>161.0</td>\n",
       "    </tr>\n",
       "    <tr>\n",
       "      <th>2</th>\n",
       "      <td>3</td>\n",
       "      <td>David Attenborough: A Life on Our Planet</td>\n",
       "      <td>2020</td>\n",
       "      <td>7+</td>\n",
       "      <td>9.0/10</td>\n",
       "      <td>95/100</td>\n",
       "      <td>1</td>\n",
       "      <td>0</td>\n",
       "      <td>0</td>\n",
       "      <td>0</td>\n",
       "      <td>0</td>\n",
       "      <td>Alastair Fothergill,Jonathan Hughes,Keith Scholey</td>\n",
       "      <td>Documentary,Biography</td>\n",
       "      <td>United Kingdom</td>\n",
       "      <td>English</td>\n",
       "      <td>83.0</td>\n",
       "    </tr>\n",
       "    <tr>\n",
       "      <th>3</th>\n",
       "      <td>4</td>\n",
       "      <td>Lagaan: Once Upon a Time in India</td>\n",
       "      <td>2001</td>\n",
       "      <td>7+</td>\n",
       "      <td>8.1/10</td>\n",
       "      <td>94/100</td>\n",
       "      <td>1</td>\n",
       "      <td>0</td>\n",
       "      <td>0</td>\n",
       "      <td>0</td>\n",
       "      <td>0</td>\n",
       "      <td>Ashutosh Gowariker</td>\n",
       "      <td>Drama,Musical,Sport</td>\n",
       "      <td>India,United Kingdom</td>\n",
       "      <td>Hindi,English</td>\n",
       "      <td>224.0</td>\n",
       "    </tr>\n",
       "    <tr>\n",
       "      <th>4</th>\n",
       "      <td>5</td>\n",
       "      <td>Roma</td>\n",
       "      <td>2018</td>\n",
       "      <td>18+</td>\n",
       "      <td>7.7/10</td>\n",
       "      <td>94/100</td>\n",
       "      <td>1</td>\n",
       "      <td>0</td>\n",
       "      <td>0</td>\n",
       "      <td>0</td>\n",
       "      <td>0</td>\n",
       "      <td>NaN</td>\n",
       "      <td>Action,Drama,History,Romance,War</td>\n",
       "      <td>United Kingdom,United States</td>\n",
       "      <td>English</td>\n",
       "      <td>52.0</td>\n",
       "    </tr>\n",
       "  </tbody>\n",
       "</table>\n",
       "</div>"
      ],
      "text/plain": [
       "   ID                                     Title  Year  Age    IMDb  \\\n",
       "0   1                              The Irishman  2019  18+  7.8/10   \n",
       "1   2                                    Dangal  2016   7+  8.4/10   \n",
       "2   3  David Attenborough: A Life on Our Planet  2020   7+  9.0/10   \n",
       "3   4         Lagaan: Once Upon a Time in India  2001   7+  8.1/10   \n",
       "4   5                                      Roma  2018  18+  7.7/10   \n",
       "\n",
       "  Rotten Tomatoes  Netflix  Hulu  Prime Video  Disney+  Type  \\\n",
       "0          98/100        1     0            0        0     0   \n",
       "1          97/100        1     0            0        0     0   \n",
       "2          95/100        1     0            0        0     0   \n",
       "3          94/100        1     0            0        0     0   \n",
       "4          94/100        1     0            0        0     0   \n",
       "\n",
       "                                           Directors  \\\n",
       "0                                    Martin Scorsese   \n",
       "1                                      Nitesh Tiwari   \n",
       "2  Alastair Fothergill,Jonathan Hughes,Keith Scholey   \n",
       "3                                 Ashutosh Gowariker   \n",
       "4                                                NaN   \n",
       "\n",
       "                             Genres  \\\n",
       "0             Biography,Crime,Drama   \n",
       "1      Action,Biography,Drama,Sport   \n",
       "2             Documentary,Biography   \n",
       "3               Drama,Musical,Sport   \n",
       "4  Action,Drama,History,Romance,War   \n",
       "\n",
       "                                             Country  \\\n",
       "0                                      United States   \n",
       "1  India,United States,United Kingdom,Australia,K...   \n",
       "2                                     United Kingdom   \n",
       "3                               India,United Kingdom   \n",
       "4                       United Kingdom,United States   \n",
       "\n",
       "                               Language  Runtime  \n",
       "0  English,Italian,Latin,Spanish,German    209.0  \n",
       "1                         Hindi,English    161.0  \n",
       "2                               English     83.0  \n",
       "3                         Hindi,English    224.0  \n",
       "4                               English     52.0  "
      ]
     },
     "execution_count": 42,
     "metadata": {},
     "output_type": "execute_result"
    }
   ],
   "source": [
    "df = df.iloc[:,1:] # removing in unnamed index column\n",
    "df.head()"
   ]
  },
  {
   "cell_type": "code",
   "execution_count": 43,
   "id": "5618132d",
   "metadata": {},
   "outputs": [
    {
     "name": "stdout",
     "output_type": "stream",
     "text": [
      "<class 'pandas.core.frame.DataFrame'>\n",
      "RangeIndex: 9515 entries, 0 to 9514\n",
      "Data columns (total 16 columns):\n",
      " #   Column           Non-Null Count  Dtype  \n",
      "---  ------           --------------  -----  \n",
      " 0   ID               9515 non-null   int64  \n",
      " 1   Title            9515 non-null   object \n",
      " 2   Year             9515 non-null   int64  \n",
      " 3   Age              5338 non-null   object \n",
      " 4   IMDb             9309 non-null   object \n",
      " 5   Rotten Tomatoes  9508 non-null   object \n",
      " 6   Netflix          9515 non-null   int64  \n",
      " 7   Hulu             9515 non-null   int64  \n",
      " 8   Prime Video      9515 non-null   int64  \n",
      " 9   Disney+          9515 non-null   int64  \n",
      " 10  Type             9515 non-null   int64  \n",
      " 11  Directors        9104 non-null   object \n",
      " 12  Genres           9399 non-null   object \n",
      " 13  Country          9261 non-null   object \n",
      " 14  Language         9202 non-null   object \n",
      " 15  Runtime          9196 non-null   float64\n",
      "dtypes: float64(1), int64(7), object(8)\n",
      "memory usage: 1.2+ MB\n"
     ]
    }
   ],
   "source": [
    "df.info()"
   ]
  },
  {
   "cell_type": "code",
   "execution_count": 44,
   "id": "09cd56b3",
   "metadata": {},
   "outputs": [],
   "source": [
    "# Working with Missing Values\n",
    "\n",
    "miss = pd.DataFrame(df.isnull().sum())\n",
    "miss = miss.rename(columns={0: 'miss_count'})"
   ]
  },
  {
   "cell_type": "code",
   "execution_count": 45,
   "id": "33da09cd",
   "metadata": {
    "scrolled": false
   },
   "outputs": [],
   "source": [
    "miss['miss_%'] = (miss.miss_count / len(df.ID))*100"
   ]
  },
  {
   "cell_type": "code",
   "execution_count": 46,
   "id": "7b037cde",
   "metadata": {},
   "outputs": [],
   "source": [
    "# Cleaning\n",
    "#dropping values with missing % morre than 50%\n",
    "df.drop(['Age'], axis = 1, inplace=True)"
   ]
  },
  {
   "cell_type": "code",
   "execution_count": 47,
   "id": "603ee161",
   "metadata": {},
   "outputs": [],
   "source": [
    "# Dropping Na's from the following columns\n",
    "df.dropna(subset=['IMDb','Directors', 'Genres', 'Country', \n",
    "                 'Language', 'Runtime'], inplace=True)\n",
    "df.reset_index(inplace=True, drop=True)"
   ]
  },
  {
   "cell_type": "code",
   "execution_count": 48,
   "id": "a1a7c56a",
   "metadata": {},
   "outputs": [],
   "source": [
    "# Converting into object type\n",
    "df['Year'] = df.Year.astype('object')"
   ]
  },
  {
   "cell_type": "code",
   "execution_count": 49,
   "id": "3c7e71f1",
   "metadata": {},
   "outputs": [],
   "source": [
    "# Cleaning Variables IMDb\n",
    "df['IMDb'] = df['IMDb'].str.replace(r'[/]', '', regex=True)"
   ]
  },
  {
   "cell_type": "code",
   "execution_count": 50,
   "id": "bf14c352",
   "metadata": {},
   "outputs": [],
   "source": [
    "# Cleaning Variables IMDb\n",
    "df['Rotten Tomatoes'] = df['Rotten Tomatoes'].str.replace(r'[/]', '', regex=True)"
   ]
  },
  {
   "cell_type": "code",
   "execution_count": 51,
   "id": "3a7ccf36",
   "metadata": {},
   "outputs": [],
   "source": [
    "df['IMDb'] = df['IMDb'].astype('float64')\n",
    "df['Rotten Tomatoes'] = df['Rotten Tomatoes'].astype('float64')\n",
    "df['ID'] = df.Year.astype('object')"
   ]
  },
  {
   "cell_type": "code",
   "execution_count": 52,
   "id": "42a8d1a9",
   "metadata": {},
   "outputs": [],
   "source": [
    "df['Rotten Tomatoes'] = df['Rotten Tomatoes'] / 100000"
   ]
  },
  {
   "cell_type": "code",
   "execution_count": 53,
   "id": "ce5332cf",
   "metadata": {},
   "outputs": [
    {
     "data": {
      "text/html": [
       "<div>\n",
       "<style scoped>\n",
       "    .dataframe tbody tr th:only-of-type {\n",
       "        vertical-align: middle;\n",
       "    }\n",
       "\n",
       "    .dataframe tbody tr th {\n",
       "        vertical-align: top;\n",
       "    }\n",
       "\n",
       "    .dataframe thead th {\n",
       "        text-align: right;\n",
       "    }\n",
       "</style>\n",
       "<table border=\"1\" class=\"dataframe\">\n",
       "  <thead>\n",
       "    <tr style=\"text-align: right;\">\n",
       "      <th></th>\n",
       "      <th>ID</th>\n",
       "      <th>Title</th>\n",
       "      <th>Year</th>\n",
       "      <th>IMDb</th>\n",
       "      <th>Rotten Tomatoes</th>\n",
       "      <th>Netflix</th>\n",
       "      <th>Hulu</th>\n",
       "      <th>Prime Video</th>\n",
       "      <th>Disney+</th>\n",
       "      <th>Type</th>\n",
       "      <th>Directors</th>\n",
       "      <th>Genres</th>\n",
       "      <th>Country</th>\n",
       "      <th>Language</th>\n",
       "      <th>Runtime</th>\n",
       "    </tr>\n",
       "  </thead>\n",
       "  <tbody>\n",
       "    <tr>\n",
       "      <th>0</th>\n",
       "      <td>2019</td>\n",
       "      <td>The Irishman</td>\n",
       "      <td>2019</td>\n",
       "      <td>7.81</td>\n",
       "      <td>0.981</td>\n",
       "      <td>1</td>\n",
       "      <td>0</td>\n",
       "      <td>0</td>\n",
       "      <td>0</td>\n",
       "      <td>0</td>\n",
       "      <td>Martin Scorsese</td>\n",
       "      <td>Biography,Crime,Drama</td>\n",
       "      <td>United States</td>\n",
       "      <td>English,Italian,Latin,Spanish,German</td>\n",
       "      <td>209.0</td>\n",
       "    </tr>\n",
       "    <tr>\n",
       "      <th>1</th>\n",
       "      <td>2016</td>\n",
       "      <td>Dangal</td>\n",
       "      <td>2016</td>\n",
       "      <td>8.41</td>\n",
       "      <td>0.971</td>\n",
       "      <td>1</td>\n",
       "      <td>0</td>\n",
       "      <td>0</td>\n",
       "      <td>0</td>\n",
       "      <td>0</td>\n",
       "      <td>Nitesh Tiwari</td>\n",
       "      <td>Action,Biography,Drama,Sport</td>\n",
       "      <td>India,United States,United Kingdom,Australia,K...</td>\n",
       "      <td>Hindi,English</td>\n",
       "      <td>161.0</td>\n",
       "    </tr>\n",
       "    <tr>\n",
       "      <th>2</th>\n",
       "      <td>2020</td>\n",
       "      <td>David Attenborough: A Life on Our Planet</td>\n",
       "      <td>2020</td>\n",
       "      <td>9.01</td>\n",
       "      <td>0.951</td>\n",
       "      <td>1</td>\n",
       "      <td>0</td>\n",
       "      <td>0</td>\n",
       "      <td>0</td>\n",
       "      <td>0</td>\n",
       "      <td>Alastair Fothergill,Jonathan Hughes,Keith Scholey</td>\n",
       "      <td>Documentary,Biography</td>\n",
       "      <td>United Kingdom</td>\n",
       "      <td>English</td>\n",
       "      <td>83.0</td>\n",
       "    </tr>\n",
       "    <tr>\n",
       "      <th>3</th>\n",
       "      <td>2001</td>\n",
       "      <td>Lagaan: Once Upon a Time in India</td>\n",
       "      <td>2001</td>\n",
       "      <td>8.11</td>\n",
       "      <td>0.941</td>\n",
       "      <td>1</td>\n",
       "      <td>0</td>\n",
       "      <td>0</td>\n",
       "      <td>0</td>\n",
       "      <td>0</td>\n",
       "      <td>Ashutosh Gowariker</td>\n",
       "      <td>Drama,Musical,Sport</td>\n",
       "      <td>India,United Kingdom</td>\n",
       "      <td>Hindi,English</td>\n",
       "      <td>224.0</td>\n",
       "    </tr>\n",
       "    <tr>\n",
       "      <th>4</th>\n",
       "      <td>2018</td>\n",
       "      <td>To All the Boys I've Loved Before</td>\n",
       "      <td>2018</td>\n",
       "      <td>7.11</td>\n",
       "      <td>0.941</td>\n",
       "      <td>1</td>\n",
       "      <td>0</td>\n",
       "      <td>0</td>\n",
       "      <td>0</td>\n",
       "      <td>0</td>\n",
       "      <td>Susan Johnson</td>\n",
       "      <td>Comedy,Drama,Romance</td>\n",
       "      <td>United States</td>\n",
       "      <td>English</td>\n",
       "      <td>99.0</td>\n",
       "    </tr>\n",
       "  </tbody>\n",
       "</table>\n",
       "</div>"
      ],
      "text/plain": [
       "     ID                                     Title  Year  IMDb  \\\n",
       "0  2019                              The Irishman  2019  7.81   \n",
       "1  2016                                    Dangal  2016  8.41   \n",
       "2  2020  David Attenborough: A Life on Our Planet  2020  9.01   \n",
       "3  2001         Lagaan: Once Upon a Time in India  2001  8.11   \n",
       "4  2018         To All the Boys I've Loved Before  2018  7.11   \n",
       "\n",
       "   Rotten Tomatoes  Netflix  Hulu  Prime Video  Disney+  Type  \\\n",
       "0            0.981        1     0            0        0     0   \n",
       "1            0.971        1     0            0        0     0   \n",
       "2            0.951        1     0            0        0     0   \n",
       "3            0.941        1     0            0        0     0   \n",
       "4            0.941        1     0            0        0     0   \n",
       "\n",
       "                                           Directors  \\\n",
       "0                                    Martin Scorsese   \n",
       "1                                      Nitesh Tiwari   \n",
       "2  Alastair Fothergill,Jonathan Hughes,Keith Scholey   \n",
       "3                                 Ashutosh Gowariker   \n",
       "4                                      Susan Johnson   \n",
       "\n",
       "                         Genres  \\\n",
       "0         Biography,Crime,Drama   \n",
       "1  Action,Biography,Drama,Sport   \n",
       "2         Documentary,Biography   \n",
       "3           Drama,Musical,Sport   \n",
       "4          Comedy,Drama,Romance   \n",
       "\n",
       "                                             Country  \\\n",
       "0                                      United States   \n",
       "1  India,United States,United Kingdom,Australia,K...   \n",
       "2                                     United Kingdom   \n",
       "3                               India,United Kingdom   \n",
       "4                                      United States   \n",
       "\n",
       "                               Language  Runtime  \n",
       "0  English,Italian,Latin,Spanish,German    209.0  \n",
       "1                         Hindi,English    161.0  \n",
       "2                               English     83.0  \n",
       "3                         Hindi,English    224.0  \n",
       "4                               English     99.0  "
      ]
     },
     "execution_count": 53,
     "metadata": {},
     "output_type": "execute_result"
    }
   ],
   "source": [
    "df.head()"
   ]
  },
  {
   "cell_type": "code",
   "execution_count": 54,
   "id": "e6281e30",
   "metadata": {},
   "outputs": [
    {
     "name": "stdout",
     "output_type": "stream",
     "text": [
      "<class 'pandas.core.frame.DataFrame'>\n",
      "RangeIndex: 8695 entries, 0 to 8694\n",
      "Data columns (total 15 columns):\n",
      " #   Column           Non-Null Count  Dtype  \n",
      "---  ------           --------------  -----  \n",
      " 0   ID               8695 non-null   object \n",
      " 1   Title            8695 non-null   object \n",
      " 2   Year             8695 non-null   object \n",
      " 3   IMDb             8695 non-null   float64\n",
      " 4   Rotten Tomatoes  8695 non-null   float64\n",
      " 5   Netflix          8695 non-null   int64  \n",
      " 6   Hulu             8695 non-null   int64  \n",
      " 7   Prime Video      8695 non-null   int64  \n",
      " 8   Disney+          8695 non-null   int64  \n",
      " 9   Type             8695 non-null   int64  \n",
      " 10  Directors        8695 non-null   object \n",
      " 11  Genres           8695 non-null   object \n",
      " 12  Country          8695 non-null   object \n",
      " 13  Language         8695 non-null   object \n",
      " 14  Runtime          8695 non-null   float64\n",
      "dtypes: float64(3), int64(5), object(7)\n",
      "memory usage: 1019.1+ KB\n"
     ]
    }
   ],
   "source": [
    "df.info()"
   ]
  },
  {
   "cell_type": "code",
   "execution_count": 55,
   "id": "7ee67609",
   "metadata": {},
   "outputs": [],
   "source": [
    "categorical = []\n",
    "numerical = []\n",
    "\n",
    "for i in range(df.columns.size):\n",
    "    if df.iloc[:,i].dtype ==\"object\":\n",
    "        categorical.append(df.columns[i])\n",
    "    else:\n",
    "        numerical.append(df.columns[i])"
   ]
  },
  {
   "cell_type": "code",
   "execution_count": 59,
   "id": "cc8eeb49",
   "metadata": {},
   "outputs": [],
   "source": [
    "def distplot(df, feat):\n",
    "    \n",
    "    plt.figure(figsize=(20,10))\n",
    "    sns.distplot(df[feat])\n",
    "    plt.title(feat)\n",
    "    plt.xticks(rotation = 60)\n",
    "    plt.show()"
   ]
  },
  {
   "cell_type": "code",
   "execution_count": 60,
   "id": "c98590bf",
   "metadata": {
    "scrolled": true
   },
   "outputs": [
    {
     "name": "stderr",
     "output_type": "stream",
     "text": [
      "C:\\Users\\conra\\anaconda3\\lib\\site-packages\\seaborn\\distributions.py:2557: FutureWarning: `distplot` is a deprecated function and will be removed in a future version. Please adapt your code to use either `displot` (a figure-level function with similar flexibility) or `histplot` (an axes-level function for histograms).\n",
      "  warnings.warn(msg, FutureWarning)\n"
     ]
    },
    {
     "data": {
      "image/png": "[encoded data removed]",
      "text/plain": [
       "<Figure size 1440x720 with 1 Axes>"
      ]
     },
     "metadata": {
      "needs_background": "light"
     },
     "output_type": "display_data"
    },
    {
     "name": "stderr",
     "output_type": "stream",
     "text": [
      "C:\\Users\\conra\\anaconda3\\lib\\site-packages\\seaborn\\distributions.py:2557: FutureWarning: `distplot` is a deprecated function and will be removed in a future version. Please adapt your code to use either `displot` (a figure-level function with similar flexibility) or `histplot` (an axes-level function for histograms).\n",
      "  warnings.warn(msg, FutureWarning)\n"
     ]
    },
    {
     "data": {
      "image/png": "[encoded data removed]",
      "text/plain": [
       "<Figure size 1440x720 with 1 Axes>"
      ]
     },
     "metadata": {
      "needs_background": "light"
     },
     "output_type": "display_data"
    },
    {
     "name": "stderr",
     "output_type": "stream",
     "text": [
      "C:\\Users\\conra\\anaconda3\\lib\\site-packages\\seaborn\\distributions.py:2557: FutureWarning: `distplot` is a deprecated function and will be removed in a future version. Please adapt your code to use either `displot` (a figure-level function with similar flexibility) or `histplot` (an axes-level function for histograms).\n",
      "  warnings.warn(msg, FutureWarning)\n"
     ]
    },
    {
     "data": {
      "image/png": "[encoded data removed]",
      "text/plain": [
       "<Figure size 1440x720 with 1 Axes>"
      ]
     },
     "metadata": {
      "needs_background": "light"
     },
     "output_type": "display_data"
    },
    {
     "name": "stderr",
     "output_type": "stream",
     "text": [
      "C:\\Users\\conra\\anaconda3\\lib\\site-packages\\seaborn\\distributions.py:2557: FutureWarning: `distplot` is a deprecated function and will be removed in a future version. Please adapt your code to use either `displot` (a figure-level function with similar flexibility) or `histplot` (an axes-level function for histograms).\n",
      "  warnings.warn(msg, FutureWarning)\n"
     ]
    },
    {
     "data": {
      "image/png": "[encoded data removed]",
      "text/plain": [
       "<Figure size 1440x720 with 1 Axes>"
      ]
     },
     "metadata": {
      "needs_background": "light"
     },
     "output_type": "display_data"
    },
    {
     "name": "stderr",
     "output_type": "stream",
     "text": [
      "C:\\Users\\conra\\anaconda3\\lib\\site-packages\\seaborn\\distributions.py:2557: FutureWarning: `distplot` is a deprecated function and will be removed in a future version. Please adapt your code to use either `displot` (a figure-level function with similar flexibility) or `histplot` (an axes-level function for histograms).\n",
      "  warnings.warn(msg, FutureWarning)\n"
     ]
    },
    {
     "data": {
      "image/png": "[encoded data removed]",
      "text/plain": [
       "<Figure size 1440x720 with 1 Axes>"
      ]
     },
     "metadata": {
      "needs_background": "light"
     },
     "output_type": "display_data"
    },
    {
     "name": "stderr",
     "output_type": "stream",
     "text": [
      "C:\\Users\\conra\\anaconda3\\lib\\site-packages\\seaborn\\distributions.py:2557: FutureWarning: `distplot` is a deprecated function and will be removed in a future version. Please adapt your code to use either `displot` (a figure-level function with similar flexibility) or `histplot` (an axes-level function for histograms).\n",
      "  warnings.warn(msg, FutureWarning)\n"
     ]
    },
    {
     "data": {
      "image/png": "[encoded data removed]",
      "text/plain": [
       "<Figure size 1440x720 with 1 Axes>"
      ]
     },
     "metadata": {
      "needs_background": "light"
     },
     "output_type": "display_data"
    },
    {
     "name": "stderr",
     "output_type": "stream",
     "text": [
      "C:\\Users\\conra\\anaconda3\\lib\\site-packages\\seaborn\\distributions.py:2557: FutureWarning: `distplot` is a deprecated function and will be removed in a future version. Please adapt your code to use either `displot` (a figure-level function with similar flexibility) or `histplot` (an axes-level function for histograms).\n",
      "  warnings.warn(msg, FutureWarning)\n",
      "C:\\Users\\conra\\anaconda3\\lib\\site-packages\\seaborn\\distributions.py:306: UserWarning: Dataset has 0 variance; skipping density estimate.\n",
      "  warnings.warn(msg, UserWarning)\n"
     ]
    },
    {
     "data": {
      "image/png": "[encoded data removed]",
      "text/plain": [
       "<Figure size 1440x720 with 1 Axes>"
      ]
     },
     "metadata": {
      "needs_background": "light"
     },
     "output_type": "display_data"
    },
    {
     "name": "stderr",
     "output_type": "stream",
     "text": [
      "C:\\Users\\conra\\anaconda3\\lib\\site-packages\\seaborn\\distributions.py:2557: FutureWarning: `distplot` is a deprecated function and will be removed in a future version. Please adapt your code to use either `displot` (a figure-level function with similar flexibility) or `histplot` (an axes-level function for histograms).\n",
      "  warnings.warn(msg, FutureWarning)\n"
     ]
    },
    {
     "data": {
      "image/png": "[encoded data removed]",
      "text/plain": [
       "<Figure size 1440x720 with 1 Axes>"
      ]
     },
     "metadata": {
      "needs_background": "light"
     },
     "output_type": "display_data"
    }
   ],
   "source": [
    "for feat in numerical:\n",
    "    distplot(df, feat)"
   ]
  },
  {
   "cell_type": "code",
   "execution_count": 62,
   "id": "4d5e95e5",
   "metadata": {},
   "outputs": [
    {
     "name": "stderr",
     "output_type": "stream",
     "text": [
      "C:\\Users\\conra\\anaconda3\\lib\\site-packages\\seaborn\\distributions.py:2557: FutureWarning: `distplot` is a deprecated function and will be removed in a future version. Please adapt your code to use either `displot` (a figure-level function with similar flexibility) or `histplot` (an axes-level function for histograms).\n",
      "  warnings.warn(msg, FutureWarning)\n"
     ]
    },
    {
     "data": {
      "image/png": "[encoded data removed]",
      "text/plain": [
       "<Figure size 1440x360 with 1 Axes>"
      ]
     },
     "metadata": {
      "needs_background": "light"
     },
     "output_type": "display_data"
    }
   ],
   "source": [
    "# DISTRIBUTION PLOTS\n",
    "\n",
    "# Checking Distribution of Years\n",
    "plt.figure(figsize=(20,5))\n",
    "sns.distplot(df['Year'])\n",
    "plt.show()"
   ]
  },
  {
   "cell_type": "code",
   "execution_count": 63,
   "id": "bbf16428",
   "metadata": {},
   "outputs": [
    {
     "data": {
      "text/plain": [
       "'\\nThe chart is showing the distribution of movies origin year.\\nThe most of the movies were made between the year 200 to 2020.\\n'"
      ]
     },
     "execution_count": 63,
     "metadata": {},
     "output_type": "execute_result"
    }
   ],
   "source": [
    "\"\"\"\n",
    "The chart is showing the distribution of movies origin year.\n",
    "The most of the movies were made between the year 200 to 2020.\n",
    "\"\"\""
   ]
  },
  {
   "cell_type": "code",
   "execution_count": 64,
   "id": "9aaf9570",
   "metadata": {},
   "outputs": [
    {
     "name": "stderr",
     "output_type": "stream",
     "text": [
      "C:\\Users\\conra\\anaconda3\\lib\\site-packages\\seaborn\\distributions.py:2557: FutureWarning: `distplot` is a deprecated function and will be removed in a future version. Please adapt your code to use either `displot` (a figure-level function with similar flexibility) or `histplot` (an axes-level function for histograms).\n",
      "  warnings.warn(msg, FutureWarning)\n"
     ]
    },
    {
     "data": {
      "image/png": "[encoded data removed]",
      "text/plain": [
       "<Figure size 1440x360 with 1 Axes>"
      ]
     },
     "metadata": {
      "needs_background": "light"
     },
     "output_type": "display_data"
    }
   ],
   "source": [
    "# Checking Distribution of IMDb\n",
    "plt.figure(figsize=(20,5))\n",
    "sns.distplot(df['IMDb'])\n",
    "plt.show()"
   ]
  },
  {
   "cell_type": "code",
   "execution_count": 65,
   "id": "4ca900f7",
   "metadata": {},
   "outputs": [
    {
     "data": {
      "text/plain": [
       "'\\nThe distributin plot is slightly skewed, so we can interpret \\nthat the mean IMDB of most movies is 6.5\\n'"
      ]
     },
     "execution_count": 65,
     "metadata": {},
     "output_type": "execute_result"
    }
   ],
   "source": [
    "\"\"\"\n",
    "The distributin plot is slightly skewed, so we can interpret \n",
    "that the mean IMDB of most movies is 6.5\n",
    "\"\"\""
   ]
  },
  {
   "cell_type": "code",
   "execution_count": 66,
   "id": "5f33728c",
   "metadata": {},
   "outputs": [
    {
     "name": "stderr",
     "output_type": "stream",
     "text": [
      "C:\\Users\\conra\\anaconda3\\lib\\site-packages\\seaborn\\distributions.py:2557: FutureWarning: `distplot` is a deprecated function and will be removed in a future version. Please adapt your code to use either `displot` (a figure-level function with similar flexibility) or `histplot` (an axes-level function for histograms).\n",
      "  warnings.warn(msg, FutureWarning)\n"
     ]
    },
    {
     "data": {
      "image/png": "[encoded data removed]",
      "text/plain": [
       "<Figure size 1440x360 with 1 Axes>"
      ]
     },
     "metadata": {
      "needs_background": "light"
     },
     "output_type": "display_data"
    }
   ],
   "source": [
    "# Checking Distribution of Rotten Tomatoes\n",
    "plt.figure(figsize=(20,5))\n",
    "sns.distplot(df['Rotten Tomatoes'])\n",
    "plt.show()"
   ]
  },
  {
   "cell_type": "code",
   "execution_count": 67,
   "id": "77d0de9c",
   "metadata": {},
   "outputs": [
    {
     "name": "stderr",
     "output_type": "stream",
     "text": [
      "C:\\Users\\conra\\anaconda3\\lib\\site-packages\\seaborn\\distributions.py:2557: FutureWarning: `distplot` is a deprecated function and will be removed in a future version. Please adapt your code to use either `displot` (a figure-level function with similar flexibility) or `histplot` (an axes-level function for histograms).\n",
      "  warnings.warn(msg, FutureWarning)\n"
     ]
    },
    {
     "data": {
      "image/png": "[encoded data removed]",
      "text/plain": [
       "<Figure size 1440x720 with 1 Axes>"
      ]
     },
     "metadata": {
      "needs_background": "light"
     },
     "output_type": "display_data"
    }
   ],
   "source": [
    "# Checking Distribution of Runtime\n",
    "plt.figure(figsize=(20,10))\n",
    "sns.distplot(df['Runtime'])\n",
    "plt.show()"
   ]
  },
  {
   "cell_type": "code",
   "execution_count": 68,
   "id": "b4e3b7e0",
   "metadata": {},
   "outputs": [],
   "source": [
    "#Distribution of Movies on Each Streaming Platform\n",
    "\n",
    "# Function to calculate the movies in differente Streaming plataforms\n",
    "def m_cnt(plat, count=False):\n",
    "    \n",
    "    if count==False:\n",
    "        print('Plataform {} Count: {}'.format(plat, df[plat].sum()))\n",
    "        \n",
    "    else:\n",
    "        return df[plat].sum()"
   ]
  },
  {
   "cell_type": "code",
   "execution_count": 69,
   "id": "4ca29fe3",
   "metadata": {},
   "outputs": [
    {
     "name": "stdout",
     "output_type": "stream",
     "text": [
      "Plataform Netflix Count: 3325\n",
      "Plataform Hulu Count: 998\n",
      "Plataform Prime Video Count: 3799\n",
      "Plataform Disney+ Count: 819\n"
     ]
    }
   ],
   "source": [
    "# Lets see count of movies / shows of each streaming platform\n",
    "m_cnt('Netflix')\n",
    "m_cnt('Hulu')\n",
    "m_cnt('Prime Video')\n",
    "m_cnt('Disney+')"
   ]
  },
  {
   "cell_type": "code",
   "execution_count": 70,
   "id": "ddc8c0cc",
   "metadata": {},
   "outputs": [
    {
     "data": {
      "image/png": "[encoded data removed]",
      "text/plain": [
       "<Figure size 432x288 with 1 Axes>"
      ]
     },
     "metadata": {},
     "output_type": "display_data"
    }
   ],
   "source": [
    "# Moveis on each platform\n",
    "\n",
    "lab = 'Prime Video', 'Netflix', 'Hulu', 'Disney'\n",
    "s = [m_cnt('Prime Video', count=True),\n",
    "     m_cnt('Netflix', count=True),\n",
    "     m_cnt('Hulu', count=True),\n",
    "     m_cnt('Disney+', count=True)]\n",
    "\n",
    "explode = (0.1, 0.1, 0.1, 0.1)\n",
    "\n",
    "#plotting\n",
    "fig1, ax1 = plt.subplots()\n",
    "ax1.pie(s, \n",
    "       labels= lab,\n",
    "       autopct = '%1.1f%%',\n",
    "       explode = explode,\n",
    "       shadow = True,\n",
    "       startangle = 100)\n",
    "\n",
    "ax1.axis = ('equal')\n",
    "plt.show()"
   ]
  },
  {
   "cell_type": "code",
   "execution_count": 71,
   "id": "04eadfbd",
   "metadata": {},
   "outputs": [
    {
     "data": {
      "text/plain": [
       "'\\nAbove the plot, Prime videos is hosting the maximum number of titles, \\nwith 42,5% share and Netflix hosting 37,2%.\\n'"
      ]
     },
     "execution_count": 71,
     "metadata": {},
     "output_type": "execute_result"
    }
   ],
   "source": [
    "\"\"\"\n",
    "Above the plot, Prime videos is hosting the maximum number of titles, \n",
    "with 42,5% share and Netflix hosting 37,2%.\n",
    "\"\"\""
   ]
  },
  {
   "cell_type": "code",
   "execution_count": 72,
   "id": "8306107a",
   "metadata": {},
   "outputs": [],
   "source": [
    "# MOVIE DISTRIBUTION ACCORDING TO GENRE\n",
    "\n",
    "# split the genres by ',' & then stack it one after the other for easy analysus\n",
    "g = df['Genres'].str.split(',').apply(pd.Series, 1).stack()\n",
    "g.index = g.index.droplevel(-1)"
   ]
  },
  {
   "cell_type": "code",
   "execution_count": 73,
   "id": "5fcca1d1",
   "metadata": {},
   "outputs": [],
   "source": [
    "# Assign name to column\n",
    "g.name = 'Genres'"
   ]
  },
  {
   "cell_type": "code",
   "execution_count": 74,
   "id": "4c1e9398",
   "metadata": {},
   "outputs": [
    {
     "ename": "ValueError",
     "evalue": "columns overlap but no suffix specified: Index(['Genres'], dtype='object')",
     "output_type": "error",
     "traceback": [
      "\u001b[1;31m---------------------------------------------------------------------------\u001b[0m",
      "\u001b[1;31mValueError\u001b[0m                                Traceback (most recent call last)",
      "\u001b[1;32m<ipython-input-74-0d63c2118e9f>\u001b[0m in \u001b[0;36m<module>\u001b[1;34m\u001b[0m\n\u001b[0;32m      1\u001b[0m \u001b[1;31m# join new column with the existing dataframe\u001b[0m\u001b[1;33m\u001b[0m\u001b[1;33m\u001b[0m\u001b[1;33m\u001b[0m\u001b[0m\n\u001b[1;32m----> 2\u001b[1;33m \u001b[0mdf_genres\u001b[0m \u001b[1;33m=\u001b[0m \u001b[0mdf\u001b[0m\u001b[1;33m.\u001b[0m\u001b[0mjoin\u001b[0m\u001b[1;33m(\u001b[0m\u001b[0mg\u001b[0m\u001b[1;33m)\u001b[0m\u001b[1;33m\u001b[0m\u001b[1;33m\u001b[0m\u001b[0m\n\u001b[0m",
      "\u001b[1;32m~\\anaconda3\\lib\\site-packages\\pandas\\core\\frame.py\u001b[0m in \u001b[0;36mjoin\u001b[1;34m(self, other, on, how, lsuffix, rsuffix, sort)\u001b[0m\n\u001b[0;32m   8108\u001b[0m         \u001b[1;36m5\u001b[0m  \u001b[0mK5\u001b[0m  \u001b[0mA5\u001b[0m  \u001b[0mNaN\u001b[0m\u001b[1;33m\u001b[0m\u001b[1;33m\u001b[0m\u001b[0m\n\u001b[0;32m   8109\u001b[0m         \"\"\"\n\u001b[1;32m-> 8110\u001b[1;33m         return self._join_compat(\n\u001b[0m\u001b[0;32m   8111\u001b[0m             \u001b[0mother\u001b[0m\u001b[1;33m,\u001b[0m \u001b[0mon\u001b[0m\u001b[1;33m=\u001b[0m\u001b[0mon\u001b[0m\u001b[1;33m,\u001b[0m \u001b[0mhow\u001b[0m\u001b[1;33m=\u001b[0m\u001b[0mhow\u001b[0m\u001b[1;33m,\u001b[0m \u001b[0mlsuffix\u001b[0m\u001b[1;33m=\u001b[0m\u001b[0mlsuffix\u001b[0m\u001b[1;33m,\u001b[0m \u001b[0mrsuffix\u001b[0m\u001b[1;33m=\u001b[0m\u001b[0mrsuffix\u001b[0m\u001b[1;33m,\u001b[0m \u001b[0msort\u001b[0m\u001b[1;33m=\u001b[0m\u001b[0msort\u001b[0m\u001b[1;33m\u001b[0m\u001b[1;33m\u001b[0m\u001b[0m\n\u001b[0;32m   8112\u001b[0m         )\n",
      "\u001b[1;32m~\\anaconda3\\lib\\site-packages\\pandas\\core\\frame.py\u001b[0m in \u001b[0;36m_join_compat\u001b[1;34m(self, other, on, how, lsuffix, rsuffix, sort)\u001b[0m\n\u001b[0;32m   8133\u001b[0m                     \u001b[0msort\u001b[0m\u001b[1;33m=\u001b[0m\u001b[0msort\u001b[0m\u001b[1;33m,\u001b[0m\u001b[1;33m\u001b[0m\u001b[1;33m\u001b[0m\u001b[0m\n\u001b[0;32m   8134\u001b[0m                 )\n\u001b[1;32m-> 8135\u001b[1;33m             return merge(\n\u001b[0m\u001b[0;32m   8136\u001b[0m                 \u001b[0mself\u001b[0m\u001b[1;33m,\u001b[0m\u001b[1;33m\u001b[0m\u001b[1;33m\u001b[0m\u001b[0m\n\u001b[0;32m   8137\u001b[0m                 \u001b[0mother\u001b[0m\u001b[1;33m,\u001b[0m\u001b[1;33m\u001b[0m\u001b[1;33m\u001b[0m\u001b[0m\n",
      "\u001b[1;32m~\\anaconda3\\lib\\site-packages\\pandas\\core\\reshape\\merge.py\u001b[0m in \u001b[0;36mmerge\u001b[1;34m(left, right, how, on, left_on, right_on, left_index, right_index, sort, suffixes, copy, indicator, validate)\u001b[0m\n\u001b[0;32m     87\u001b[0m         \u001b[0mvalidate\u001b[0m\u001b[1;33m=\u001b[0m\u001b[0mvalidate\u001b[0m\u001b[1;33m,\u001b[0m\u001b[1;33m\u001b[0m\u001b[1;33m\u001b[0m\u001b[0m\n\u001b[0;32m     88\u001b[0m     )\n\u001b[1;32m---> 89\u001b[1;33m     \u001b[1;32mreturn\u001b[0m \u001b[0mop\u001b[0m\u001b[1;33m.\u001b[0m\u001b[0mget_result\u001b[0m\u001b[1;33m(\u001b[0m\u001b[1;33m)\u001b[0m\u001b[1;33m\u001b[0m\u001b[1;33m\u001b[0m\u001b[0m\n\u001b[0m\u001b[0;32m     90\u001b[0m \u001b[1;33m\u001b[0m\u001b[0m\n\u001b[0;32m     91\u001b[0m \u001b[1;33m\u001b[0m\u001b[0m\n",
      "\u001b[1;32m~\\anaconda3\\lib\\site-packages\\pandas\\core\\reshape\\merge.py\u001b[0m in \u001b[0;36mget_result\u001b[1;34m(self)\u001b[0m\n\u001b[0;32m    684\u001b[0m         \u001b[0mjoin_index\u001b[0m\u001b[1;33m,\u001b[0m \u001b[0mleft_indexer\u001b[0m\u001b[1;33m,\u001b[0m \u001b[0mright_indexer\u001b[0m \u001b[1;33m=\u001b[0m \u001b[0mself\u001b[0m\u001b[1;33m.\u001b[0m\u001b[0m_get_join_info\u001b[0m\u001b[1;33m(\u001b[0m\u001b[1;33m)\u001b[0m\u001b[1;33m\u001b[0m\u001b[1;33m\u001b[0m\u001b[0m\n\u001b[0;32m    685\u001b[0m \u001b[1;33m\u001b[0m\u001b[0m\n\u001b[1;32m--> 686\u001b[1;33m         llabels, rlabels = _items_overlap_with_suffix(\n\u001b[0m\u001b[0;32m    687\u001b[0m             \u001b[0mself\u001b[0m\u001b[1;33m.\u001b[0m\u001b[0mleft\u001b[0m\u001b[1;33m.\u001b[0m\u001b[0m_info_axis\u001b[0m\u001b[1;33m,\u001b[0m \u001b[0mself\u001b[0m\u001b[1;33m.\u001b[0m\u001b[0mright\u001b[0m\u001b[1;33m.\u001b[0m\u001b[0m_info_axis\u001b[0m\u001b[1;33m,\u001b[0m \u001b[0mself\u001b[0m\u001b[1;33m.\u001b[0m\u001b[0msuffixes\u001b[0m\u001b[1;33m\u001b[0m\u001b[1;33m\u001b[0m\u001b[0m\n\u001b[0;32m    688\u001b[0m         )\n",
      "\u001b[1;32m~\\anaconda3\\lib\\site-packages\\pandas\\core\\reshape\\merge.py\u001b[0m in \u001b[0;36m_items_overlap_with_suffix\u001b[1;34m(left, right, suffixes)\u001b[0m\n\u001b[0;32m   2176\u001b[0m \u001b[1;33m\u001b[0m\u001b[0m\n\u001b[0;32m   2177\u001b[0m     \u001b[1;32mif\u001b[0m \u001b[1;32mnot\u001b[0m \u001b[0mlsuffix\u001b[0m \u001b[1;32mand\u001b[0m \u001b[1;32mnot\u001b[0m \u001b[0mrsuffix\u001b[0m\u001b[1;33m:\u001b[0m\u001b[1;33m\u001b[0m\u001b[1;33m\u001b[0m\u001b[0m\n\u001b[1;32m-> 2178\u001b[1;33m         \u001b[1;32mraise\u001b[0m \u001b[0mValueError\u001b[0m\u001b[1;33m(\u001b[0m\u001b[1;34mf\"columns overlap but no suffix specified: {to_rename}\"\u001b[0m\u001b[1;33m)\u001b[0m\u001b[1;33m\u001b[0m\u001b[1;33m\u001b[0m\u001b[0m\n\u001b[0m\u001b[0;32m   2179\u001b[0m \u001b[1;33m\u001b[0m\u001b[0m\n\u001b[0;32m   2180\u001b[0m     \u001b[1;32mdef\u001b[0m \u001b[0mrenamer\u001b[0m\u001b[1;33m(\u001b[0m\u001b[0mx\u001b[0m\u001b[1;33m,\u001b[0m \u001b[0msuffix\u001b[0m\u001b[1;33m)\u001b[0m\u001b[1;33m:\u001b[0m\u001b[1;33m\u001b[0m\u001b[1;33m\u001b[0m\u001b[0m\n",
      "\u001b[1;31mValueError\u001b[0m: columns overlap but no suffix specified: Index(['Genres'], dtype='object')"
     ]
    }
   ],
   "source": [
    "# join new column with the existing dataframe\n",
    "df_genres = df.join(g)"
   ]
  },
  {
   "cell_type": "code",
   "execution_count": 75,
   "id": "9310cd06",
   "metadata": {},
   "outputs": [
    {
     "ename": "NameError",
     "evalue": "name 'df_genres' is not defined",
     "output_type": "error",
     "traceback": [
      "\u001b[1;31m---------------------------------------------------------------------------\u001b[0m",
      "\u001b[1;31mNameError\u001b[0m                                 Traceback (most recent call last)",
      "\u001b[1;32m<ipython-input-75-b8fa942a03b7>\u001b[0m in \u001b[0;36m<module>\u001b[1;34m\u001b[0m\n\u001b[0;32m      1\u001b[0m \u001b[1;31m# Count of movies according to genre\u001b[0m\u001b[1;33m\u001b[0m\u001b[1;33m\u001b[0m\u001b[1;33m\u001b[0m\u001b[0m\n\u001b[0;32m      2\u001b[0m \u001b[0mplt\u001b[0m\u001b[1;33m.\u001b[0m\u001b[0mfigure\u001b[0m\u001b[1;33m(\u001b[0m\u001b[0mfigsize\u001b[0m\u001b[1;33m=\u001b[0m\u001b[1;33m(\u001b[0m\u001b[1;36m15\u001b[0m\u001b[1;33m,\u001b[0m\u001b[1;36m5\u001b[0m\u001b[1;33m)\u001b[0m\u001b[1;33m)\u001b[0m\u001b[1;33m\u001b[0m\u001b[1;33m\u001b[0m\u001b[0m\n\u001b[1;32m----> 3\u001b[1;33m \u001b[0msns\u001b[0m\u001b[1;33m.\u001b[0m\u001b[0mcountplot\u001b[0m\u001b[1;33m(\u001b[0m\u001b[0mx\u001b[0m\u001b[1;33m=\u001b[0m\u001b[1;34m'Genres'\u001b[0m\u001b[1;33m,\u001b[0m \u001b[0mdata\u001b[0m \u001b[1;33m=\u001b[0m \u001b[0mdf_genres\u001b[0m\u001b[1;33m)\u001b[0m\u001b[1;33m\u001b[0m\u001b[1;33m\u001b[0m\u001b[0m\n\u001b[0m\u001b[0;32m      4\u001b[0m \u001b[0mplt\u001b[0m\u001b[1;33m.\u001b[0m\u001b[0mxticks\u001b[0m\u001b[1;33m(\u001b[0m\u001b[0mrotation\u001b[0m\u001b[1;33m=\u001b[0m\u001b[1;36m90\u001b[0m\u001b[1;33m)\u001b[0m\u001b[1;33m\u001b[0m\u001b[1;33m\u001b[0m\u001b[0m\n\u001b[0;32m      5\u001b[0m \u001b[0mplt\u001b[0m\u001b[1;33m.\u001b[0m\u001b[0mshow\u001b[0m\u001b[1;33m(\u001b[0m\u001b[1;33m)\u001b[0m\u001b[1;33m\u001b[0m\u001b[1;33m\u001b[0m\u001b[0m\n",
      "\u001b[1;31mNameError\u001b[0m: name 'df_genres' is not defined"
     ]
    },
    {
     "data": {
      "text/plain": [
       "<Figure size 1080x360 with 0 Axes>"
      ]
     },
     "metadata": {},
     "output_type": "display_data"
    }
   ],
   "source": [
    "# Count of movies according to genre\n",
    "plt.figure(figsize=(15,5))\n",
    "sns.countplot(x='Genres', data = df_genres)\n",
    "plt.xticks(rotation=90)\n",
    "plt.show()"
   ]
  },
  {
   "cell_type": "code",
   "execution_count": 76,
   "id": "7e02a67b",
   "metadata": {},
   "outputs": [
    {
     "data": {
      "text/plain": [
       "'\\nThe movies have a common genre as Drama and Comedy\\n'"
      ]
     },
     "execution_count": 76,
     "metadata": {},
     "output_type": "execute_result"
    }
   ],
   "source": [
    "\"\"\"\n",
    "The movies have a common genre as Drama and Comedy\n",
    "\"\"\""
   ]
  },
  {
   "cell_type": "code",
   "execution_count": 77,
   "id": "cc59f5ed",
   "metadata": {},
   "outputs": [],
   "source": [
    "# MOVIE DISTRIBUTION ACCORDING TO COUNTRY\n",
    "\n",
    "# split the COUNTRY by ',' & then stack it one after the other for easy analysus\n",
    "c = df['Country'].str.split(',').apply(pd.Series, 1).stack()\n",
    "c.index = c.index.droplevel(-1)"
   ]
  },
  {
   "cell_type": "code",
   "execution_count": 78,
   "id": "4d917e61",
   "metadata": {},
   "outputs": [],
   "source": [
    "# Assign name to column\n",
    "c.name = 'Country'"
   ]
  },
  {
   "cell_type": "code",
   "execution_count": 79,
   "id": "ce40edb4",
   "metadata": {},
   "outputs": [],
   "source": [
    "# delete column\n",
    "del df['Country']"
   ]
  },
  {
   "cell_type": "code",
   "execution_count": 80,
   "id": "da440fcd",
   "metadata": {},
   "outputs": [],
   "source": [
    "# join new column with the existing dataframe\n",
    "df_country = df.join(c)"
   ]
  },
  {
   "cell_type": "code",
   "execution_count": 81,
   "id": "de498037",
   "metadata": {},
   "outputs": [
    {
     "data": {
      "image/png": "[encoded data removed]",
      "text/plain": [
       "<Figure size 1080x360 with 1 Axes>"
      ]
     },
     "metadata": {
      "needs_background": "light"
     },
     "output_type": "display_data"
    }
   ],
   "source": [
    "# plotting top 10 country and movie count \n",
    "df_country['Country'].value_counts()[:10].plot(kind='bar', figsize=(15,5))\n",
    "plt.show()"
   ]
  },
  {
   "cell_type": "code",
   "execution_count": 82,
   "id": "0b4d0767",
   "metadata": {},
   "outputs": [
    {
     "data": {
      "text/plain": [
       "'\\nThe graph shows that the majority of the movies were made in the United States \\n'"
      ]
     },
     "execution_count": 82,
     "metadata": {},
     "output_type": "execute_result"
    }
   ],
   "source": [
    "\"\"\"\n",
    "The graph shows that the majority of the movies were made in the United States \n",
    "\"\"\""
   ]
  },
  {
   "cell_type": "code",
   "execution_count": 83,
   "id": "44265c28",
   "metadata": {},
   "outputs": [],
   "source": [
    "# MOVIE DISTRIBUTION ACCORDING TO lANGUAGE\n",
    "\n",
    "# split the lANGUAGE by ',' & then stack it one after the other for easy analysus\n",
    "l = df['Language'].str.split(',').apply(pd.Series, 1).stack()\n",
    "l.index = l.index.droplevel(-1)"
   ]
  },
  {
   "cell_type": "code",
   "execution_count": 84,
   "id": "dd6995b9",
   "metadata": {},
   "outputs": [],
   "source": [
    "# Assign name to column\n",
    "l.name = 'Language'"
   ]
  },
  {
   "cell_type": "code",
   "execution_count": 85,
   "id": "83ca3b15",
   "metadata": {},
   "outputs": [],
   "source": [
    "# delete column\n",
    "del df['Language']"
   ]
  },
  {
   "cell_type": "code",
   "execution_count": 86,
   "id": "21b7ced1",
   "metadata": {},
   "outputs": [],
   "source": [
    "# join new column with the existing dataframe\n",
    "df_language = df.join(l)"
   ]
  },
  {
   "cell_type": "code",
   "execution_count": 87,
   "id": "2d660f27",
   "metadata": {},
   "outputs": [
    {
     "data": {
      "image/png": "[encoded data removed]",
      "text/plain": [
       "<Figure size 1080x360 with 1 Axes>"
      ]
     },
     "metadata": {
      "needs_background": "light"
     },
     "output_type": "display_data"
    }
   ],
   "source": [
    "# plotting top 10 country and movie count \n",
    "df_language['Language'].value_counts()[:10].plot(kind='bar', figsize=(15,5))\n",
    "plt.show()"
   ]
  },
  {
   "cell_type": "code",
   "execution_count": 88,
   "id": "d9b4befe",
   "metadata": {},
   "outputs": [
    {
     "data": {
      "text/plain": [
       "'\\nThe graph shows that the majority of the movies were in the English languages.\\n'"
      ]
     },
     "execution_count": 88,
     "metadata": {},
     "output_type": "execute_result"
    }
   ],
   "source": [
    "\"\"\"\n",
    "The graph shows that the majority of the movies were in the English languages.\n",
    "\"\"\" "
   ]
  },
  {
   "cell_type": "code",
   "execution_count": 89,
   "id": "349693ca",
   "metadata": {},
   "outputs": [],
   "source": [
    "# MOVIE DISTRIBUTION ACCORDING TO EACH PLATAFORM\n",
    "\n",
    "# melting plataform columns to create visualization\n",
    "\n",
    "df2 = pd.melt(df, id_vars=['ID', 'Title', 'Year', 'IMDb', \n",
    "                           'Rotten Tomatoes', 'Type', 'Runtime'],\n",
    "             var_name='plataform')\n",
    "\n",
    "df2 = df2[df2.value==1]\n",
    "df2.drop(columns=['value'], axis=1, inplace=True)"
   ]
  },
  {
   "cell_type": "code",
   "execution_count": 90,
   "id": "a4a86eaf",
   "metadata": {},
   "outputs": [
    {
     "data": {
      "image/png": "[encoded data removed]",
      "text/plain": [
       "<Figure size 864x216 with 4 Axes>"
      ]
     },
     "metadata": {
      "needs_background": "light"
     },
     "output_type": "display_data"
    }
   ],
   "source": [
    "# Distribution of IMDB rating in different platform\n",
    "\n",
    "g = sns.FacetGrid(df2, col='plataform')\n",
    "g.map(plt.hist,'IMDb')\n",
    "plt.show()"
   ]
  },
  {
   "cell_type": "code",
   "execution_count": 39,
   "id": "fc86838d",
   "metadata": {},
   "outputs": [
    {
     "data": {
      "text/plain": [
       "'\"\\n# Load dataset\\ndf = pd.read_csv(\"kaggle/tvshow.csv\")\\ndf=df.iloc[:,1:]\\ndf.ID = df.ID.astype(\"object\")\\n\\n# melting platform columns to create visualization\\ndf2 = pd.melt(df, id_vars=[\"ID\",\"Title\",\"Year\",\"Age\",\"IMDb\",\\n                           \"Rotten Tomatoes\",\"Type\",\"Runtime\"], \\n              var_name=\"platform\")\\ndf2 = df2[df2.value==1]\\ndf2.drop(columns=[\"value\"],axis=1,inplace=True)\\n\\n# total of runtime in different platform\\n\\nax = sns.barplot(x=\\'platform\\', y=\\'Runtime\\', hue=\\'Age\\', \\n                 estimator=sum, data=df2)\\n                 \\n'"
      ]
     },
     "execution_count": 39,
     "metadata": {},
     "output_type": "execute_result"
    }
   ],
   "source": [
    "# RUNTIME PER PLATAFORM ALONG WITH AGE GROUP\n",
    "\"\"\"\"\n",
    "# Load dataset\n",
    "df = pd.read_csv(\"kaggle/tvshow.csv\")\n",
    "df=df.iloc[:,1:]\n",
    "df.ID = df.ID.astype(\"object\")\n",
    "\n",
    "# melting platform columns to create visualization\n",
    "df2 = pd.melt(df, id_vars=[\"ID\",\"Title\",\"Year\",\"Age\",\"IMDb\",\n",
    "                           \"Rotten Tomatoes\",\"Type\",\"Runtime\"], \n",
    "              var_name=\"platform\")\n",
    "df2 = df2[df2.value==1]\n",
    "df2.drop(columns=[\"value\"],axis=1,inplace=True)\n",
    "\n",
    "# total of runtime in different platform\n",
    "\n",
    "ax = sns.barplot(x='platform', y='Runtime', hue='Age', \n",
    "                 estimator=sum, data=df2)\n",
    "                 \n",
    "\"\"\""
   ]
  },
  {
   "cell_type": "code",
   "execution_count": null,
   "id": "f243a53a",
   "metadata": {},
   "outputs": [],
   "source": [
    "\"\"\"\n",
    "The above plots shows that the total runtime on Prime Videos \n",
    "by 18+ age groups users is higher than compared to any other\n",
    "platform.\n",
    "\"\"\""
   ]
  },
  {
   "cell_type": "code",
   "execution_count": 91,
   "id": "7502c098",
   "metadata": {},
   "outputs": [],
   "source": [
    "# BUILDING A RECOMMENDER SYSTEM\n",
    "\n",
    "\"\"\"\n",
    "Build two Recommender sytem based on cosine similarity:\n",
    "1. Using only the numerical variable\n",
    "2. Using both numerical and categorical variable\n",
    "\"\"\""
   ]
  },
  {
   "cell_type": "code",
   "execution_count": 92,
   "id": "a7a09dc5",
   "metadata": {},
   "outputs": [
    {
     "name": "stdout",
     "output_type": "stream",
     "text": [
      "<class 'pandas.core.frame.DataFrame'>\n",
      "RangeIndex: 8695 entries, 0 to 8694\n",
      "Data columns (total 13 columns):\n",
      " #   Column           Non-Null Count  Dtype  \n",
      "---  ------           --------------  -----  \n",
      " 0   ID               8695 non-null   object \n",
      " 1   Title            8695 non-null   object \n",
      " 2   Year             8695 non-null   object \n",
      " 3   IMDb             8695 non-null   float64\n",
      " 4   Rotten Tomatoes  8695 non-null   float64\n",
      " 5   Netflix          8695 non-null   int64  \n",
      " 6   Hulu             8695 non-null   int64  \n",
      " 7   Prime Video      8695 non-null   int64  \n",
      " 8   Disney+          8695 non-null   int64  \n",
      " 9   Type             8695 non-null   int64  \n",
      " 10  Directors        8695 non-null   object \n",
      " 11  Genres           8695 non-null   object \n",
      " 12  Runtime          8695 non-null   float64\n",
      "dtypes: float64(3), int64(5), object(5)\n",
      "memory usage: 883.2+ KB\n"
     ]
    }
   ],
   "source": [
    "df.info()"
   ]
  },
  {
   "cell_type": "code",
   "execution_count": 94,
   "id": "10f6871f",
   "metadata": {},
   "outputs": [
    {
     "data": {
      "text/html": [
       "<div>\n",
       "<style scoped>\n",
       "    .dataframe tbody tr th:only-of-type {\n",
       "        vertical-align: middle;\n",
       "    }\n",
       "\n",
       "    .dataframe tbody tr th {\n",
       "        vertical-align: top;\n",
       "    }\n",
       "\n",
       "    .dataframe thead th {\n",
       "        text-align: right;\n",
       "    }\n",
       "</style>\n",
       "<table border=\"1\" class=\"dataframe\">\n",
       "  <thead>\n",
       "    <tr style=\"text-align: right;\">\n",
       "      <th></th>\n",
       "      <th>IMDb</th>\n",
       "      <th>Rotten Tomatoes</th>\n",
       "      <th>Netflix</th>\n",
       "      <th>Hulu</th>\n",
       "      <th>Prime Video</th>\n",
       "      <th>Disney+</th>\n",
       "      <th>Type</th>\n",
       "      <th>Runtime</th>\n",
       "    </tr>\n",
       "  </thead>\n",
       "  <tbody>\n",
       "    <tr>\n",
       "      <th>0</th>\n",
       "      <td>7.81</td>\n",
       "      <td>0.981</td>\n",
       "      <td>1</td>\n",
       "      <td>0</td>\n",
       "      <td>0</td>\n",
       "      <td>0</td>\n",
       "      <td>0</td>\n",
       "      <td>209.0</td>\n",
       "    </tr>\n",
       "    <tr>\n",
       "      <th>1</th>\n",
       "      <td>8.41</td>\n",
       "      <td>0.971</td>\n",
       "      <td>1</td>\n",
       "      <td>0</td>\n",
       "      <td>0</td>\n",
       "      <td>0</td>\n",
       "      <td>0</td>\n",
       "      <td>161.0</td>\n",
       "    </tr>\n",
       "    <tr>\n",
       "      <th>2</th>\n",
       "      <td>9.01</td>\n",
       "      <td>0.951</td>\n",
       "      <td>1</td>\n",
       "      <td>0</td>\n",
       "      <td>0</td>\n",
       "      <td>0</td>\n",
       "      <td>0</td>\n",
       "      <td>83.0</td>\n",
       "    </tr>\n",
       "    <tr>\n",
       "      <th>3</th>\n",
       "      <td>8.11</td>\n",
       "      <td>0.941</td>\n",
       "      <td>1</td>\n",
       "      <td>0</td>\n",
       "      <td>0</td>\n",
       "      <td>0</td>\n",
       "      <td>0</td>\n",
       "      <td>224.0</td>\n",
       "    </tr>\n",
       "    <tr>\n",
       "      <th>4</th>\n",
       "      <td>7.11</td>\n",
       "      <td>0.941</td>\n",
       "      <td>1</td>\n",
       "      <td>0</td>\n",
       "      <td>0</td>\n",
       "      <td>0</td>\n",
       "      <td>0</td>\n",
       "      <td>99.0</td>\n",
       "    </tr>\n",
       "    <tr>\n",
       "      <th>...</th>\n",
       "      <td>...</td>\n",
       "      <td>...</td>\n",
       "      <td>...</td>\n",
       "      <td>...</td>\n",
       "      <td>...</td>\n",
       "      <td>...</td>\n",
       "      <td>...</td>\n",
       "      <td>...</td>\n",
       "    </tr>\n",
       "    <tr>\n",
       "      <th>8690</th>\n",
       "      <td>6.91</td>\n",
       "      <td>0.371</td>\n",
       "      <td>0</td>\n",
       "      <td>0</td>\n",
       "      <td>0</td>\n",
       "      <td>1</td>\n",
       "      <td>0</td>\n",
       "      <td>78.0</td>\n",
       "    </tr>\n",
       "    <tr>\n",
       "      <th>8691</th>\n",
       "      <td>7.01</td>\n",
       "      <td>0.351</td>\n",
       "      <td>0</td>\n",
       "      <td>0</td>\n",
       "      <td>0</td>\n",
       "      <td>1</td>\n",
       "      <td>0</td>\n",
       "      <td>44.0</td>\n",
       "    </tr>\n",
       "    <tr>\n",
       "      <th>8692</th>\n",
       "      <td>5.61</td>\n",
       "      <td>0.341</td>\n",
       "      <td>0</td>\n",
       "      <td>0</td>\n",
       "      <td>0</td>\n",
       "      <td>1</td>\n",
       "      <td>0</td>\n",
       "      <td>60.0</td>\n",
       "    </tr>\n",
       "    <tr>\n",
       "      <th>8693</th>\n",
       "      <td>7.31</td>\n",
       "      <td>0.331</td>\n",
       "      <td>0</td>\n",
       "      <td>0</td>\n",
       "      <td>0</td>\n",
       "      <td>1</td>\n",
       "      <td>0</td>\n",
       "      <td>47.0</td>\n",
       "    </tr>\n",
       "    <tr>\n",
       "      <th>8694</th>\n",
       "      <td>5.31</td>\n",
       "      <td>0.331</td>\n",
       "      <td>0</td>\n",
       "      <td>0</td>\n",
       "      <td>0</td>\n",
       "      <td>1</td>\n",
       "      <td>0</td>\n",
       "      <td>22.0</td>\n",
       "    </tr>\n",
       "  </tbody>\n",
       "</table>\n",
       "<p>8695 rows × 8 columns</p>\n",
       "</div>"
      ],
      "text/plain": [
       "      IMDb  Rotten Tomatoes  Netflix  Hulu  Prime Video  Disney+  Type  \\\n",
       "0     7.81            0.981        1     0            0        0     0   \n",
       "1     8.41            0.971        1     0            0        0     0   \n",
       "2     9.01            0.951        1     0            0        0     0   \n",
       "3     8.11            0.941        1     0            0        0     0   \n",
       "4     7.11            0.941        1     0            0        0     0   \n",
       "...    ...              ...      ...   ...          ...      ...   ...   \n",
       "8690  6.91            0.371        0     0            0        1     0   \n",
       "8691  7.01            0.351        0     0            0        1     0   \n",
       "8692  5.61            0.341        0     0            0        1     0   \n",
       "8693  7.31            0.331        0     0            0        1     0   \n",
       "8694  5.31            0.331        0     0            0        1     0   \n",
       "\n",
       "      Runtime  \n",
       "0       209.0  \n",
       "1       161.0  \n",
       "2        83.0  \n",
       "3       224.0  \n",
       "4        99.0  \n",
       "...       ...  \n",
       "8690     78.0  \n",
       "8691     44.0  \n",
       "8692     60.0  \n",
       "8693     47.0  \n",
       "8694     22.0  \n",
       "\n",
       "[8695 rows x 8 columns]"
      ]
     },
     "execution_count": 94,
     "metadata": {},
     "output_type": "execute_result"
    }
   ],
   "source": [
    "# numerical variable\n",
    "# Step-1: Select the numerical variable\n",
    "ndf = df.select_dtypes(include=['float64', 'int64'])"
   ]
  },
  {
   "cell_type": "code",
   "execution_count": 97,
   "id": "dd5c866e",
   "metadata": {},
   "outputs": [],
   "source": [
    "# STEP 2\n",
    "\"\"\" \n",
    "Scaling the numerical varible using a min-max scaler to reduce\n",
    "the model complexity and training time\n",
    "\"\"\"\n",
    "\n",
    "# Create MinMaxScaler Object\n",
    "scaler = MinMaxScaler(feature_range=(0,1))\n",
    "\n",
    "# Create dataframe after transformation\n",
    "ndfmx = pd.DataFrame((scaler.fit_transform(ndf)))"
   ]
  },
  {
   "cell_type": "code",
   "execution_count": 100,
   "id": "c96a5736",
   "metadata": {},
   "outputs": [
    {
     "data": {
      "text/html": [
       "<div>\n",
       "<style scoped>\n",
       "    .dataframe tbody tr th:only-of-type {\n",
       "        vertical-align: middle;\n",
       "    }\n",
       "\n",
       "    .dataframe tbody tr th {\n",
       "        vertical-align: top;\n",
       "    }\n",
       "\n",
       "    .dataframe thead th {\n",
       "        text-align: right;\n",
       "    }\n",
       "</style>\n",
       "<table border=\"1\" class=\"dataframe\">\n",
       "  <thead>\n",
       "    <tr style=\"text-align: right;\">\n",
       "      <th></th>\n",
       "      <th>IMDb</th>\n",
       "      <th>Rotten Tomatoes</th>\n",
       "      <th>Netflix</th>\n",
       "      <th>Hulu</th>\n",
       "      <th>Prime Video</th>\n",
       "      <th>Disney+</th>\n",
       "      <th>Type</th>\n",
       "      <th>Runtime</th>\n",
       "    </tr>\n",
       "  </thead>\n",
       "  <tbody>\n",
       "    <tr>\n",
       "      <th>0</th>\n",
       "      <td>0.770115</td>\n",
       "      <td>1.000000</td>\n",
       "      <td>1.0</td>\n",
       "      <td>0.0</td>\n",
       "      <td>0.0</td>\n",
       "      <td>0.0</td>\n",
       "      <td>0.0</td>\n",
       "      <td>0.581006</td>\n",
       "    </tr>\n",
       "    <tr>\n",
       "      <th>1</th>\n",
       "      <td>0.839080</td>\n",
       "      <td>0.986667</td>\n",
       "      <td>1.0</td>\n",
       "      <td>0.0</td>\n",
       "      <td>0.0</td>\n",
       "      <td>0.0</td>\n",
       "      <td>0.0</td>\n",
       "      <td>0.446927</td>\n",
       "    </tr>\n",
       "    <tr>\n",
       "      <th>2</th>\n",
       "      <td>0.908046</td>\n",
       "      <td>0.960000</td>\n",
       "      <td>1.0</td>\n",
       "      <td>0.0</td>\n",
       "      <td>0.0</td>\n",
       "      <td>0.0</td>\n",
       "      <td>0.0</td>\n",
       "      <td>0.229050</td>\n",
       "    </tr>\n",
       "    <tr>\n",
       "      <th>3</th>\n",
       "      <td>0.804598</td>\n",
       "      <td>0.946667</td>\n",
       "      <td>1.0</td>\n",
       "      <td>0.0</td>\n",
       "      <td>0.0</td>\n",
       "      <td>0.0</td>\n",
       "      <td>0.0</td>\n",
       "      <td>0.622905</td>\n",
       "    </tr>\n",
       "    <tr>\n",
       "      <th>4</th>\n",
       "      <td>0.689655</td>\n",
       "      <td>0.946667</td>\n",
       "      <td>1.0</td>\n",
       "      <td>0.0</td>\n",
       "      <td>0.0</td>\n",
       "      <td>0.0</td>\n",
       "      <td>0.0</td>\n",
       "      <td>0.273743</td>\n",
       "    </tr>\n",
       "  </tbody>\n",
       "</table>\n",
       "</div>"
      ],
      "text/plain": [
       "       IMDb  Rotten Tomatoes  Netflix  Hulu  Prime Video  Disney+  Type  \\\n",
       "0  0.770115         1.000000      1.0   0.0          0.0      0.0   0.0   \n",
       "1  0.839080         0.986667      1.0   0.0          0.0      0.0   0.0   \n",
       "2  0.908046         0.960000      1.0   0.0          0.0      0.0   0.0   \n",
       "3  0.804598         0.946667      1.0   0.0          0.0      0.0   0.0   \n",
       "4  0.689655         0.946667      1.0   0.0          0.0      0.0   0.0   \n",
       "\n",
       "    Runtime  \n",
       "0  0.581006  \n",
       "1  0.446927  \n",
       "2  0.229050  \n",
       "3  0.622905  \n",
       "4  0.273743  "
      ]
     },
     "execution_count": 100,
     "metadata": {},
     "output_type": "execute_result"
    }
   ],
   "source": [
    "# assign columns names\n",
    "ndfmx.columns = ndf.columns\n",
    "\n",
    "ndfmx.head()"
   ]
  },
  {
   "cell_type": "code",
   "execution_count": 102,
   "id": "b27e69ea",
   "metadata": {},
   "outputs": [],
   "source": [
    "# STEP  - Compute similarity score using cosine similarity\n",
    "\n",
    "sig = cosine_similarity(ndfmx, ndfmx)\n",
    "\n",
    "# Reverse mapping of indices and movie tittles\n",
    "\n",
    "indices = pd.Series(df.index, index=df['Title']).drop_duplicates()"
   ]
  },
  {
   "cell_type": "code",
   "execution_count": 114,
   "id": "1837d6c2",
   "metadata": {},
   "outputs": [
    {
     "data": {
      "text/plain": [
       "Title\n",
       "The Irishman                                   0\n",
       "Dangal                                         1\n",
       "David Attenborough: A Life on Our Planet       2\n",
       "Lagaan: Once Upon a Time in India              3\n",
       "To All the Boys I've Loved Before              4\n",
       "                                            ... \n",
       "Penguins: Life on the Edge                  8690\n",
       "Man Among Cheetahs                          8691\n",
       "Sultan And The Rock Star                    8692\n",
       "My Music Story: Yoshiki                     8693\n",
       "Disney Channel Halloween House Party        8694\n",
       "Length: 8695, dtype: int64"
      ]
     },
     "execution_count": 114,
     "metadata": {},
     "output_type": "execute_result"
    }
   ],
   "source": [
    "indices"
   ]
  },
  {
   "cell_type": "code",
   "execution_count": 110,
   "id": "f879a3aa",
   "metadata": {},
   "outputs": [],
   "source": [
    "# STEP 4 - Writing a function to get recommendations based on similarity score\n",
    "\n",
    "def give_rec(title, sig=sig):\n",
    "    \n",
    "    # get the indez corresponding to original_title\n",
    "    idx = indices[title]\n",
    "    \n",
    "    # get the pairwise similarity scores\n",
    "    sig_scores = list(enumerate(sig[idx]))\n",
    "    \n",
    "    # sort the movies\n",
    "    sig_scores = sorted(sig_scores, key= lambda x: x[1], reverse=True)\n",
    "    \n",
    "    # scores of the 10 most similar movies\n",
    "    sig_scores = sig_scores[1:11]\n",
    "    \n",
    "    # movie indices\n",
    "    movie_indices = [i[0] for i in sig_scores]\n",
    "    \n",
    "    #Top 10 most similiar movies\n",
    "    return df['Title'].iloc[movie_indices]\n",
    "    "
   ]
  },
  {
   "cell_type": "code",
   "execution_count": 172,
   "id": "fd9dd70a",
   "metadata": {},
   "outputs": [
    {
     "data": {
      "text/plain": [
       "7907                         Toy Story\n",
       "7904                            WALL·E\n",
       "7908                                Up\n",
       "7910                      Finding Nemo\n",
       "7901                              Soul\n",
       "7911                              Coco\n",
       "7912                       Toy Story 3\n",
       "7927                The Princess Bride\n",
       "7929                       Toy Story 2\n",
       "7940    The Nightmare Before Christmas\n",
       "Name: Title, dtype: object"
      ]
     },
     "execution_count": 172,
     "metadata": {},
     "output_type": "execute_result"
    }
   ],
   "source": [
    "# Execute get_rec() function for getting recommendation\n",
    "\n",
    "give_rec(\"The Lion King\",sig = sig)"
   ]
  },
  {
   "cell_type": "code",
   "execution_count": null,
   "id": "9e6c6cca",
   "metadata": {},
   "outputs": [],
   "source": [
    "\"\"\"\n",
    "CONCLUSION\n",
    "\n",
    "This recommendation system are not up to the mark. The reason behind\n",
    "this poor result is that you are using only a few numerical variables.\n",
    "To improve the system we need to use other information in the \n",
    "another variables.\n",
    "\n",
    "\"\"\""
   ]
  },
  {
   "cell_type": "code",
   "execution_count": null,
   "id": "aa15a9b1",
   "metadata": {},
   "outputs": [],
   "source": [
    "# USING NUMERICAL AND TEXTUAL COLUMNS\n",
    "\"\"\"\n",
    "STEPS:\n",
    "\n",
    "1. Selection all objects and storing then in a list\n",
    "2. Removing ID an Title Columns\n",
    "3. Joining all text/object columns using commas into a single column\n",
    "4. Creating a tokenizer to remove unwanted elements from our data\n",
    "5. Converting TfidfVector from the text (pre processing)\n",
    "6. Selecting numerical variables\n",
    "7. Scaling Numerical Variables using min-max Scales\n",
    "8. Adding Numerical Variables in the TF-IDF vectors sparse matrix\n",
    "using hstack function)\n",
    "\"\"\""
   ]
  },
  {
   "cell_type": "code",
   "execution_count": 151,
   "id": "96d17743",
   "metadata": {},
   "outputs": [],
   "source": [
    "# the function performs all the important preprocessing steps\n",
    "\n",
    "def preprocess(df):\n",
    "    \n",
    "    #combining all text columns\n",
    "    #selection all objects data type and storing into a list\n",
    "    s = list(df.select_dtypes(include=['object']).columns)\n",
    "    \n",
    "    s.remove('Title')\n",
    "    s.remove('ID')\n",
    "    \n",
    "    #joining all text/object columns using commas into a single column\n",
    "    df['all_text'] = df[s].apply(lambda x: ','.join(x.dropna().astype(str)), axis=1)\n",
    "    \n",
    "    # creating a tokenizer to remove unwanted elements\n",
    "    token = RegexpTokenizer(r'[a-zA-Z]+')\n",
    "    \n",
    "    # converting TfidfVector\n",
    "    cv = TfidfVectorizer(lowercase = True, stop_words='english', ngram_range = (1,1), tokenizer = token.tokenize)\n",
    "    text_counts = cv.fit_transform(df['all_text'])\n",
    "    \n",
    "    # Selecting Numerical Variables\n",
    "    ndf = df.select_dtypes(include=['float64', 'int64'])\n",
    "\n",
    "    # Scaling Numerical Variables\n",
    "    scaler = MinMaxScaler(feature_range=(0,1))\n",
    "    \n",
    "    # Create dataframe after transformation\n",
    "    ndfmx = pd.DataFrame((scaler.fit_transform(ndf)))\n",
    "    ndfmx.columns=ndf.columns \n",
    "    \n",
    "    # Adding our adding numerical variable in the TF-IDF vector\n",
    "    IMDB = ndfmx.IMDb.values[:, None]\n",
    "    X_train_dtm = hstack((text_counts, IMDB))\n",
    "    \n",
    "    Netflix = ndfmx.Netflix.values[:, None]\n",
    "    X_train_dtm = hstack((X_train_dtm, Netflix))\n",
    "    \n",
    "    Hulu = ndfmx.Hulu.values[:, None]\n",
    "    X_train_dtm = hstack((X_train_dtm, Hulu))\n",
    "    \n",
    "    Prime = ndfmx[\"Prime Video\"].values[:, None]\n",
    "    X_train_dtm = hstack((X_train_dtm, Prime))\n",
    "    \n",
    "    Disney = ndfmx[\"Disney+\"].values[:, None]\n",
    "    X_train_dtm = hstack((X_train_dtm, Disney))\n",
    "    \n",
    "    Runtime = ndfmx.Runtime.values[:, None]\n",
    "    X_train_dtm = hstack((X_train_dtm, Runtime))\n",
    "    \n",
    "    Tomatoes = ndfmx['Rotten Tomatoes'].values[:, None]\n",
    "    X_train_dtm = hstack((X_train_dtm, Tomatoes))\n",
    "    \n",
    "    return X_train_dtm\n",
    "    "
   ]
  },
  {
   "cell_type": "code",
   "execution_count": 152,
   "id": "60dc2c2f",
   "metadata": {},
   "outputs": [],
   "source": [
    "# Step-2: Applying the function to our data and creating a sparse matrix\n",
    "# Preprocessing Data\n",
    "mat = preprocess(df)\n",
    "mat.shape"
   ]
  },
  {
   "cell_type": "code",
   "execution_count": 154,
   "id": "45774891",
   "metadata": {},
   "outputs": [],
   "source": [
    "# STEP 3 - Applying Cosine Similarity\n",
    "sig2 = cosine_similarity(mat, mat)\n",
    "\n",
    "# Reverse mapping of indices and movie tittles\n",
    "\n",
    "indices = pd.Series(df.index, index=df['Title']).drop_duplicates()"
   ]
  },
  {
   "cell_type": "code",
   "execution_count": 171,
   "id": "2914256f",
   "metadata": {},
   "outputs": [
    {
     "data": {
      "text/plain": [
       "8190                The Haunted Mansion\n",
       "8454                      Tummy Trouble\n",
       "7927                 The Princess Bride\n",
       "8045               Mary Poppins Returns\n",
       "8072    The Lion King II: Simba's Pride\n",
       "7907                          Toy Story\n",
       "7896                       Mary Poppins\n",
       "7940     The Nightmare Before Christmas\n",
       "7934                             Frozen\n",
       "7993                                Rio\n",
       "Name: Title, dtype: object"
      ]
     },
     "execution_count": 171,
     "metadata": {},
     "output_type": "execute_result"
    }
   ],
   "source": [
    "# Step-4 - Get a recommendation from our improved System\n",
    "\n",
    "give_rec(\"The Lion King\",sig = sig2)"
   ]
  },
  {
   "cell_type": "code",
   "execution_count": 170,
   "id": "8fc369a2",
   "metadata": {
    "scrolled": false
   },
   "outputs": [
    {
     "data": {
      "text/html": [
       "<div>\n",
       "<style scoped>\n",
       "    .dataframe tbody tr th:only-of-type {\n",
       "        vertical-align: middle;\n",
       "    }\n",
       "\n",
       "    .dataframe tbody tr th {\n",
       "        vertical-align: top;\n",
       "    }\n",
       "\n",
       "    .dataframe thead th {\n",
       "        text-align: right;\n",
       "    }\n",
       "</style>\n",
       "<table border=\"1\" class=\"dataframe\">\n",
       "  <thead>\n",
       "    <tr style=\"text-align: right;\">\n",
       "      <th></th>\n",
       "      <th>Title</th>\n",
       "      <th>IMDb</th>\n",
       "    </tr>\n",
       "  </thead>\n",
       "  <tbody>\n",
       "    <tr>\n",
       "      <th>4786</th>\n",
       "      <td>Tom Petty and the Heartbreakers: Runnin' Down ...</td>\n",
       "      <td>8.61</td>\n",
       "    </tr>\n",
       "    <tr>\n",
       "      <th>5739</th>\n",
       "      <td>Eh Janam Tumhare Lekhe</td>\n",
       "      <td>8.61</td>\n",
       "    </tr>\n",
       "    <tr>\n",
       "      <th>4690</th>\n",
       "      <td>George Carlin: You Are All Diseased</td>\n",
       "      <td>8.61</td>\n",
       "    </tr>\n",
       "    <tr>\n",
       "      <th>4428</th>\n",
       "      <td>Stop Making Sense</td>\n",
       "      <td>8.61</td>\n",
       "    </tr>\n",
       "    <tr>\n",
       "      <th>4601</th>\n",
       "      <td>George Carlin: It's Bad for Ya!</td>\n",
       "      <td>8.61</td>\n",
       "    </tr>\n",
       "    <tr>\n",
       "      <th>3327</th>\n",
       "      <td>Parasite</td>\n",
       "      <td>8.61</td>\n",
       "    </tr>\n",
       "    <tr>\n",
       "      <th>6959</th>\n",
       "      <td>Ostatni ludzie Czarnobyla 2</td>\n",
       "      <td>8.61</td>\n",
       "    </tr>\n",
       "    <tr>\n",
       "      <th>4978</th>\n",
       "      <td>Zakir Khan : Haq Se Single</td>\n",
       "      <td>8.61</td>\n",
       "    </tr>\n",
       "    <tr>\n",
       "      <th>918</th>\n",
       "      <td>Bill Hicks: Relentless</td>\n",
       "      <td>8.61</td>\n",
       "    </tr>\n",
       "    <tr>\n",
       "      <th>4305</th>\n",
       "      <td>It's a Wonderful Life</td>\n",
       "      <td>8.61</td>\n",
       "    </tr>\n",
       "    <tr>\n",
       "      <th>1205</th>\n",
       "      <td>Merku Thodarchi Malai</td>\n",
       "      <td>8.61</td>\n",
       "    </tr>\n",
       "    <tr>\n",
       "      <th>6730</th>\n",
       "      <td>SS United States: Lady in Waiting</td>\n",
       "      <td>8.61</td>\n",
       "    </tr>\n",
       "    <tr>\n",
       "      <th>970</th>\n",
       "      <td>Bill Hicks: Revelations</td>\n",
       "      <td>8.61</td>\n",
       "    </tr>\n",
       "    <tr>\n",
       "      <th>7899</th>\n",
       "      <td>Star Wars: A New Hope</td>\n",
       "      <td>8.61</td>\n",
       "    </tr>\n",
       "    <tr>\n",
       "      <th>6270</th>\n",
       "      <td>Local Legends</td>\n",
       "      <td>8.51</td>\n",
       "    </tr>\n",
       "    <tr>\n",
       "      <th>7732</th>\n",
       "      <td>Nicole Burch: Never Been Kissed</td>\n",
       "      <td>8.51</td>\n",
       "    </tr>\n",
       "    <tr>\n",
       "      <th>75</th>\n",
       "      <td>Dave Chappelle: Sticks &amp; Stones</td>\n",
       "      <td>8.51</td>\n",
       "    </tr>\n",
       "    <tr>\n",
       "      <th>6141</th>\n",
       "      <td>Street Dogs of South Central</td>\n",
       "      <td>8.51</td>\n",
       "    </tr>\n",
       "    <tr>\n",
       "      <th>112</th>\n",
       "      <td>Springsteen On Broadway</td>\n",
       "      <td>8.51</td>\n",
       "    </tr>\n",
       "    <tr>\n",
       "      <th>3346</th>\n",
       "      <td>Once Upon a Time in the West</td>\n",
       "      <td>8.51</td>\n",
       "    </tr>\n",
       "    <tr>\n",
       "      <th>7903</th>\n",
       "      <td>The Lion King</td>\n",
       "      <td>8.51</td>\n",
       "    </tr>\n",
       "    <tr>\n",
       "      <th>1057</th>\n",
       "      <td>Mandela</td>\n",
       "      <td>8.51</td>\n",
       "    </tr>\n",
       "    <tr>\n",
       "      <th>53</th>\n",
       "      <td>The Pianist</td>\n",
       "      <td>8.51</td>\n",
       "    </tr>\n",
       "    <tr>\n",
       "      <th>1084</th>\n",
       "      <td>Oththa Seruppu Size 7</td>\n",
       "      <td>8.51</td>\n",
       "    </tr>\n",
       "    <tr>\n",
       "      <th>4364</th>\n",
       "      <td>Dear Zachary: A Letter to a Son About His Father</td>\n",
       "      <td>8.51</td>\n",
       "    </tr>\n",
       "  </tbody>\n",
       "</table>\n",
       "</div>"
      ],
      "text/plain": [
       "                                                  Title  IMDb\n",
       "4786  Tom Petty and the Heartbreakers: Runnin' Down ...  8.61\n",
       "5739                             Eh Janam Tumhare Lekhe  8.61\n",
       "4690                George Carlin: You Are All Diseased  8.61\n",
       "4428                                  Stop Making Sense  8.61\n",
       "4601                    George Carlin: It's Bad for Ya!  8.61\n",
       "3327                                           Parasite  8.61\n",
       "6959                        Ostatni ludzie Czarnobyla 2  8.61\n",
       "4978                         Zakir Khan : Haq Se Single  8.61\n",
       "918                              Bill Hicks: Relentless  8.61\n",
       "4305                              It's a Wonderful Life  8.61\n",
       "1205                              Merku Thodarchi Malai  8.61\n",
       "6730                  SS United States: Lady in Waiting  8.61\n",
       "970                             Bill Hicks: Revelations  8.61\n",
       "7899                              Star Wars: A New Hope  8.61\n",
       "6270                                      Local Legends  8.51\n",
       "7732                    Nicole Burch: Never Been Kissed  8.51\n",
       "75                      Dave Chappelle: Sticks & Stones  8.51\n",
       "6141                       Street Dogs of South Central  8.51\n",
       "112                             Springsteen On Broadway  8.51\n",
       "3346                       Once Upon a Time in the West  8.51\n",
       "7903                                      The Lion King  8.51\n",
       "1057                                            Mandela  8.51\n",
       "53                                          The Pianist  8.51\n",
       "1084                              Oththa Seruppu Size 7  8.51\n",
       "4364   Dear Zachary: A Letter to a Son About His Father  8.51"
      ]
     },
     "execution_count": 170,
     "metadata": {},
     "output_type": "execute_result"
    }
   ],
   "source": [
    "df[['Title', 'IMDb']].sort_values(by='IMDb', ascending=False)[20:45]"
   ]
  },
  {
   "cell_type": "code",
   "execution_count": null,
   "id": "12abe0a4",
   "metadata": {},
   "outputs": [],
   "source": []
  }
 ],
 "metadata": {
  "kernelspec": {
   "display_name": "Python 3",
   "language": "python",
   "name": "python3"
  },
  "language_info": {
   "codemirror_mode": {
    "name": "ipython",
    "version": 3
   },
   "file_extension": ".py",
   "mimetype": "text/x-python",
   "name": "python",
   "nbconvert_exporter": "python",
   "pygments_lexer": "ipython3",
   "version": "3.8.8"
  }
 },
 "nbformat": 4,
 "nbformat_minor": 5
}
